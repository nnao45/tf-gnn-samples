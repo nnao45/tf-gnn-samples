{
 "cells": [
  {
   "cell_type": "code",
   "outputs": [
    {
     "name": "stderr",
     "output_type": "stream",
     "text": [
      "2024-04-07 00:00:51.430945: I tensorflow/core/platform/cpu_feature_guard.cc:210] This TensorFlow binary is optimized to use available CPU instructions in performance-critical operations.\n",
      "To enable the following instructions: AVX2 FMA, in other operations, rebuild TensorFlow with the appropriate compiler flags.\n",
      "2024-04-07 00:00:52.351827: W tensorflow/compiler/tf2tensorrt/utils/py_utils.cc:38] TF-TRT Warning: Could not find TensorRT\n"
     ]
    },
    {
     "name": "stdout",
     "output_type": "stream",
     "text": [
      "WARNING:tensorflow:From /home/nnao45/ghq/github.com/microsoft/tf-gnn-samples/.venv/lib/python3.11/site-packages/tensorflow/python/compat/v2_compat.py:98: disable_resource_variables (from tensorflow.python.ops.resource_variables_toggle) is deprecated and will be removed in a future version.\n",
      "Instructions for updating:\n",
      "non-resource variables are not supported in the long term\n",
      "WARNING:tensorflow:From /home/nnao45/ghq/github.com/microsoft/tf-gnn-samples/.venv/lib/python3.11/site-packages/tensorflow/python/util/deprecation.py:588: calling function (from tensorflow.python.eager.polymorphic_function.polymorphic_function) with experimental_relax_shapes is deprecated and will be removed in a future version.\n",
      "Instructions for updating:\n",
      "experimental_relax_shapes is deprecated, use reduce_retracing instead\n"
     ]
    }
   ],
   "source": [
    "from utils.model_utils import name_to_model_class\n",
    "\n",
    "model_cls, _ = name_to_model_class(\"GGNN\")"
   ],
   "metadata": {
    "collapsed": false,
    "ExecuteTime": {
     "end_time": "2024-04-06T15:00:53.086557Z",
     "start_time": "2024-04-06T15:00:51.058380Z"
    }
   },
   "id": "92a98b2399744290",
   "execution_count": 1
  },
  {
   "cell_type": "code",
   "outputs": [],
   "source": [
    "from utils.model_utils import name_to_task_class\n",
    "\n",
    "task_cls, _ = name_to_task_class(\"PPI\")"
   ],
   "metadata": {
    "collapsed": false,
    "ExecuteTime": {
     "end_time": "2024-04-06T15:00:53.985033Z",
     "start_time": "2024-04-06T15:00:53.981487Z"
    }
   },
   "id": "8444f89431cd4bac",
   "execution_count": 2
  },
  {
   "cell_type": "code",
   "outputs": [
    {
     "data": {
      "text/plain": "(models.ggnn_model.GGNN_Model, tasks.ppi_task.PPI_Task)"
     },
     "execution_count": 3,
     "metadata": {},
     "output_type": "execute_result"
    }
   ],
   "source": [
    "model_cls, task_cls"
   ],
   "metadata": {
    "collapsed": false,
    "ExecuteTime": {
     "end_time": "2024-04-06T15:00:54.467942Z",
     "start_time": "2024-04-06T15:00:54.460179Z"
    }
   },
   "id": "d6f2790cc7fd02ad",
   "execution_count": 3
  },
  {
   "cell_type": "code",
   "outputs": [
    {
     "data": {
      "text/plain": "({'add_self_loop_edges': True,\n  'tie_fwd_bkwd_edges': False,\n  'out_layer_dropout_keep_prob': 1.0},\n {'max_nodes_in_batch': 50000,\n  'graph_num_layers': 8,\n  'graph_num_timesteps_per_layer': 1,\n  'graph_layer_input_dropout_keep_prob': 1.0,\n  'graph_dense_between_every_num_gnn_layers': 10000,\n  'graph_model_activation_function': 'tanh',\n  'graph_residual_connection_every_num_layers': 10000,\n  'graph_inter_layer_norm': False,\n  'max_epochs': 10000,\n  'patience': 25,\n  'optimizer': 'Adam',\n  'learning_rate': 0.001,\n  'learning_rate_decay': 0.98,\n  'lr_for_num_graphs_per_batch': None,\n  'momentum': 0.85,\n  'clamp_gradient_norm': 1.0,\n  'random_seed': 0,\n  'hidden_size': 128,\n  'graph_rnn_cell': 'GRU',\n  'graph_activation_function': 'tanh',\n  'message_aggregation_function': 'sum'})"
     },
     "execution_count": 4,
     "metadata": {},
     "output_type": "execute_result"
    }
   ],
   "source": [
    "task_params = task_cls.default_params()\n",
    "model_params = model_cls.default_params()\n",
    "task_params, model_params"
   ],
   "metadata": {
    "collapsed": false,
    "ExecuteTime": {
     "end_time": "2024-04-06T15:00:54.748406Z",
     "start_time": "2024-04-06T15:00:54.741823Z"
    }
   },
   "id": "bcabf27777158b87",
   "execution_count": 4
  },
  {
   "cell_type": "code",
   "outputs": [],
   "source": [
    "task = task_cls({})"
   ],
   "metadata": {
    "collapsed": false,
    "ExecuteTime": {
     "end_time": "2024-04-06T15:00:55.281008Z",
     "start_time": "2024-04-06T15:00:55.277186Z"
    }
   },
   "id": "30f609cc8a20d7c5",
   "execution_count": 5
  },
  {
   "cell_type": "code",
   "outputs": [],
   "source": [
    "from dpu_utils.utils import RichPath\n",
    "\n",
    "task_params_orig = dict(task_params)\n",
    "for (param_name, param_value) in task_params.items():\n",
    "    if param_name.endswith(\"_path\"):\n",
    "        task_params[param_name] = RichPath.create(param_value, None)"
   ],
   "metadata": {
    "collapsed": false,
    "ExecuteTime": {
     "end_time": "2024-04-06T15:00:55.725365Z",
     "start_time": "2024-04-06T15:00:55.720816Z"
    }
   },
   "id": "f9a343a3fb499286",
   "execution_count": 6
  },
  {
   "cell_type": "code",
   "outputs": [
    {
     "data": {
      "text/plain": "{'add_self_loop_edges': True,\n 'tie_fwd_bkwd_edges': False,\n 'out_layer_dropout_keep_prob': 1.0}"
     },
     "execution_count": 7,
     "metadata": {},
     "output_type": "execute_result"
    }
   ],
   "source": [
    "task_params"
   ],
   "metadata": {
    "collapsed": false,
    "ExecuteTime": {
     "end_time": "2024-04-06T15:00:56.266452Z",
     "start_time": "2024-04-06T15:00:56.261055Z"
    }
   },
   "id": "77b64c45c8019487",
   "execution_count": 7
  },
  {
   "cell_type": "code",
   "outputs": [
    {
     "name": "stdout",
     "output_type": "stream",
     "text": [
      " Loading PPI train data from data/ppi.\n",
      " Loading PPI valid data from data/ppi.\n"
     ]
    }
   ],
   "source": [
    "\n",
    "task = task_cls(task_params)\n",
    "data_path = task.default_data_path()\n",
    "data_path = RichPath.create(data_path, None)\n",
    "task.load_data(data_path)"
   ],
   "metadata": {
    "collapsed": false,
    "ExecuteTime": {
     "end_time": "2024-04-06T15:01:08.200141Z",
     "start_time": "2024-04-06T15:00:56.667897Z"
    }
   },
   "id": "b3857e497f947a98",
   "execution_count": 8
  },
  {
   "cell_type": "code",
   "outputs": [],
   "source": [
    "random_seeds = model_params['random_seed']\n",
    "if not isinstance(random_seeds, list):\n",
    "    random_seeds = [random_seeds]"
   ],
   "metadata": {
    "collapsed": false,
    "ExecuteTime": {
     "end_time": "2024-04-06T15:01:09.030095Z",
     "start_time": "2024-04-06T15:01:09.026520Z"
    }
   },
   "id": "d2f0d7f084a36628",
   "execution_count": 9
  },
  {
   "cell_type": "code",
   "outputs": [
    {
     "data": {
      "text/plain": "[0]"
     },
     "execution_count": 10,
     "metadata": {},
     "output_type": "execute_result"
    }
   ],
   "source": [
    "random_seeds"
   ],
   "metadata": {
    "collapsed": false,
    "ExecuteTime": {
     "end_time": "2024-04-06T15:01:09.348273Z",
     "start_time": "2024-04-06T15:01:09.343281Z"
    }
   },
   "id": "8b3e5b8a44c7fba4",
   "execution_count": 10
  },
  {
   "cell_type": "code",
   "outputs": [],
   "source": [
    "import os\n",
    "import time\n",
    "\n",
    "run_id = \"_\".join([task_cls.name(), model_cls.name(model_params), time.strftime(\"%Y-%m-%d-%H-%M-%S\"), str(os.getpid())])"
   ],
   "metadata": {
    "collapsed": false,
    "ExecuteTime": {
     "end_time": "2024-04-06T15:01:09.874088Z",
     "start_time": "2024-04-06T15:01:09.870097Z"
    }
   },
   "id": "5e630d521a33a9b6",
   "execution_count": 11
  },
  {
   "cell_type": "code",
   "outputs": [
    {
     "data": {
      "text/plain": "'PPI_GGNN_2024-04-07-00-01-09_8503'"
     },
     "execution_count": 12,
     "metadata": {},
     "output_type": "execute_result"
    }
   ],
   "source": [
    "run_id"
   ],
   "metadata": {
    "collapsed": false,
    "ExecuteTime": {
     "end_time": "2024-04-06T15:01:10.493054Z",
     "start_time": "2024-04-06T15:01:10.487447Z"
    }
   },
   "id": "7350d8bd22d9642f",
   "execution_count": 12
  },
  {
   "cell_type": "code",
   "outputs": [],
   "source": [
    "result_dir = \"./results/\""
   ],
   "metadata": {
    "collapsed": false,
    "ExecuteTime": {
     "end_time": "2024-04-06T15:01:10.973860Z",
     "start_time": "2024-04-06T15:01:10.970245Z"
    }
   },
   "id": "155993b14074ae8f",
   "execution_count": 13
  },
  {
   "cell_type": "code",
   "outputs": [],
   "source": [
    "os.makedirs(result_dir, exist_ok=True)"
   ],
   "metadata": {
    "collapsed": false,
    "ExecuteTime": {
     "end_time": "2024-04-06T15:01:11.358199Z",
     "start_time": "2024-04-06T15:01:11.354098Z"
    }
   },
   "id": "fef96ac20e63f6f1",
   "execution_count": 14
  },
  {
   "cell_type": "code",
   "outputs": [
    {
     "name": "stdout",
     "output_type": "stream",
     "text": [
      "ERROR:tensorflow:==================================\n",
      "Object was never used (type <class 'tensorflow.python.framework.ops.Operation'>):\n",
      "<tf.Operation 'graph_model/gnn_layer_0/gru_cell/Assert/Assert' type=Assert>\n",
      "If you want to mark it as used call its \"mark_used()\" method.\n",
      "It was originally created here:\n",
      "  File \"/home/nnao45/ghq/github.com/microsoft/tf-gnn-samples/.venv/lib/python3.11/site-packages/tensorflow/python/ops/weak_tensor_ops.py\", line 88, in wrapper\n",
      "    return op(*args, **kwargs)  File \"/home/nnao45/ghq/github.com/microsoft/tf-gnn-samples/.venv/lib/python3.11/site-packages/tensorflow/python/ops/numpy_ops/np_array_ops.py\", line 316, in diag\n",
      "    control_flow_assert.Assert(  File \"/home/nnao45/ghq/github.com/microsoft/tf-gnn-samples/.venv/lib/python3.11/site-packages/tensorflow/python/util/traceback_utils.py\", line 155, in error_handler\n",
      "    del filtered_tb  File \"/home/nnao45/ghq/github.com/microsoft/tf-gnn-samples/.venv/lib/python3.11/site-packages/tensorflow/python/util/dispatch.py\", line 1260, in op_dispatch_handler\n",
      "    return dispatch_target(*args, **kwargs)  File \"/home/nnao45/ghq/github.com/microsoft/tf-gnn-samples/.venv/lib/python3.11/site-packages/tensorflow/python/util/tf_should_use.py\", line 288, in wrapped\n",
      "    return _add_should_use_warning(fn(*args, **kwargs),\n",
      "==================================\n"
     ]
    },
    {
     "ename": "ValueError",
     "evalue": "Exception encountered when calling GRUCell.call().\n\n\u001B[1mAttempting to slice scalar input. for '{{node graph_model/gnn_layer_0/gru_cell_1/strided_slice}} = StridedSlice[Index=DT_INT32, T=DT_INT32, begin_mask=0, ellipsis_mask=0, end_mask=0, new_axis_mask=0, shrink_axis_mask=0](graph_model/gnn_layer_0/gru_cell_1/shape_as_tensor, graph_model/gnn_layer_0/gru_cell_1/strided_slice/stack, graph_model/gnn_layer_0/gru_cell_1/strided_slice/stack_1, graph_model/gnn_layer_0/gru_cell_1/strided_slice/stack_2)' with input shapes: [], [1], [1], [1] and with computed input tensors: input[3] = <1>.\u001B[0m\n\nArguments received by GRUCell.call():\n  • inputs=tf.Tensor(shape=(?, 128), dtype=float32)\n  • states=['tf.Tensor(shape=(?, 128), dtype=float32)']\n  • training=False",
     "output_type": "error",
     "traceback": [
      "\u001B[0;31m---------------------------------------------------------------------------\u001B[0m",
      "\u001B[0;31mValueError\u001B[0m                                Traceback (most recent call last)",
      "Cell \u001B[0;32mIn[15], line 1\u001B[0m\n\u001B[0;32m----> 1\u001B[0m model \u001B[38;5;241m=\u001B[39m \u001B[43mmodel_cls\u001B[49m\u001B[43m(\u001B[49m\u001B[43mmodel_params\u001B[49m\u001B[43m,\u001B[49m\u001B[43m \u001B[49m\u001B[43mtask\u001B[49m\u001B[43m,\u001B[49m\u001B[43m \u001B[49m\u001B[43mrun_id\u001B[49m\u001B[43m,\u001B[49m\u001B[43m \u001B[49m\u001B[43mresult_dir\u001B[49m\u001B[43m)\u001B[49m\n",
      "File \u001B[0;32m~/ghq/github.com/microsoft/tf-gnn-samples/models/ggnn_model.py:30\u001B[0m, in \u001B[0;36mGGNN_Model.__init__\u001B[0;34m(self, params, task, run_id, result_dir)\u001B[0m\n\u001B[1;32m     29\u001B[0m \u001B[38;5;28;01mdef\u001B[39;00m \u001B[38;5;21m__init__\u001B[39m(\u001B[38;5;28mself\u001B[39m, params: Dict[\u001B[38;5;28mstr\u001B[39m, Any], task: Sparse_Graph_Task, run_id: \u001B[38;5;28mstr\u001B[39m, result_dir: \u001B[38;5;28mstr\u001B[39m) \u001B[38;5;241m-\u001B[39m\u001B[38;5;241m>\u001B[39m \u001B[38;5;28;01mNone\u001B[39;00m:\n\u001B[0;32m---> 30\u001B[0m     \u001B[38;5;28;43msuper\u001B[39;49m\u001B[43m(\u001B[49m\u001B[43m)\u001B[49m\u001B[38;5;241;43m.\u001B[39;49m\u001B[38;5;21;43m__init__\u001B[39;49m\u001B[43m(\u001B[49m\u001B[43mparams\u001B[49m\u001B[43m,\u001B[49m\u001B[43m \u001B[49m\u001B[43mtask\u001B[49m\u001B[43m,\u001B[49m\u001B[43m \u001B[49m\u001B[43mrun_id\u001B[49m\u001B[43m,\u001B[49m\u001B[43m \u001B[49m\u001B[43mresult_dir\u001B[49m\u001B[43m)\u001B[49m\n",
      "File \u001B[0;32m~/ghq/github.com/microsoft/tf-gnn-samples/models/sparse_graph_model.py:75\u001B[0m, in \u001B[0;36mSparse_Graph_Model.__init__\u001B[0;34m(self, params, task, run_id, result_dir)\u001B[0m\n\u001B[1;32m     73\u001B[0m \u001B[38;5;28;01mwith\u001B[39;00m \u001B[38;5;28mself\u001B[39m\u001B[38;5;241m.\u001B[39mgraph\u001B[38;5;241m.\u001B[39mas_default():\n\u001B[1;32m     74\u001B[0m     tf\u001B[38;5;241m.\u001B[39mset_random_seed(\u001B[38;5;28mself\u001B[39m\u001B[38;5;241m.\u001B[39mparams[\u001B[38;5;124m'\u001B[39m\u001B[38;5;124mrandom_seed\u001B[39m\u001B[38;5;124m'\u001B[39m])\n\u001B[0;32m---> 75\u001B[0m     \u001B[38;5;28;43mself\u001B[39;49m\u001B[38;5;241;43m.\u001B[39;49m\u001B[43m__make_model\u001B[49m\u001B[43m(\u001B[49m\u001B[43m)\u001B[49m\n",
      "File \u001B[0;32m~/ghq/github.com/microsoft/tf-gnn-samples/models/sparse_graph_model.py:139\u001B[0m, in \u001B[0;36mSparse_Graph_Model.__make_model\u001B[0;34m(self)\u001B[0m\n\u001B[1;32m    134\u001B[0m     \u001B[38;5;28mself\u001B[39m\u001B[38;5;241m.\u001B[39m__placeholders[\u001B[38;5;124m'\u001B[39m\u001B[38;5;124mnum_graphs\u001B[39m\u001B[38;5;124m'\u001B[39m] \u001B[38;5;241m=\u001B[39m \\\n\u001B[1;32m    135\u001B[0m         tf\u001B[38;5;241m.\u001B[39mcompat\u001B[38;5;241m.\u001B[39mv1\u001B[38;5;241m.\u001B[39mplaceholder(dtype\u001B[38;5;241m=\u001B[39mtf\u001B[38;5;241m.\u001B[39mint64, shape\u001B[38;5;241m=\u001B[39m[], name\u001B[38;5;241m=\u001B[39m\u001B[38;5;124m'\u001B[39m\u001B[38;5;124mnum_graphs\u001B[39m\u001B[38;5;124m'\u001B[39m)\n\u001B[1;32m    136\u001B[0m     \u001B[38;5;28mself\u001B[39m\u001B[38;5;241m.\u001B[39m__placeholders[\u001B[38;5;124m'\u001B[39m\u001B[38;5;124mgraph_layer_input_dropout_keep_prob\u001B[39m\u001B[38;5;124m'\u001B[39m] \u001B[38;5;241m=\u001B[39m \\\n\u001B[1;32m    137\u001B[0m         tf\u001B[38;5;241m.\u001B[39mcompat\u001B[38;5;241m.\u001B[39mv1\u001B[38;5;241m.\u001B[39mplaceholder_with_default(\u001B[38;5;241m1.0\u001B[39m, shape\u001B[38;5;241m=\u001B[39m[], name\u001B[38;5;241m=\u001B[39m\u001B[38;5;124m'\u001B[39m\u001B[38;5;124mgraph_layer_input_dropout_keep_prob\u001B[39m\u001B[38;5;124m'\u001B[39m)\n\u001B[0;32m--> 139\u001B[0m     \u001B[38;5;28;43mself\u001B[39;49m\u001B[38;5;241;43m.\u001B[39;49m\u001B[43m__build_graph_propagation_model\u001B[49m\u001B[43m(\u001B[49m\u001B[43m)\u001B[49m\n\u001B[1;32m    141\u001B[0m \u001B[38;5;28mself\u001B[39m\u001B[38;5;241m.\u001B[39mtask\u001B[38;5;241m.\u001B[39mmake_task_output_model(\u001B[38;5;28mself\u001B[39m\u001B[38;5;241m.\u001B[39m__placeholders, \u001B[38;5;28mself\u001B[39m\u001B[38;5;241m.\u001B[39m__ops)\n\u001B[1;32m    143\u001B[0m tf\u001B[38;5;241m.\u001B[39msummary\u001B[38;5;241m.\u001B[39mscalar(\u001B[38;5;124m'\u001B[39m\u001B[38;5;124mloss\u001B[39m\u001B[38;5;124m'\u001B[39m, \u001B[38;5;28mself\u001B[39m\u001B[38;5;241m.\u001B[39m__ops[\u001B[38;5;124m'\u001B[39m\u001B[38;5;124mtask_metrics\u001B[39m\u001B[38;5;124m'\u001B[39m][\u001B[38;5;124m'\u001B[39m\u001B[38;5;124mloss\u001B[39m\u001B[38;5;124m'\u001B[39m])\n",
      "File \u001B[0;32m~/ghq/github.com/microsoft/tf-gnn-samples/models/sparse_graph_model.py:188\u001B[0m, in \u001B[0;36mSparse_Graph_Model.__build_graph_propagation_model\u001B[0;34m(self)\u001B[0m\n\u001B[1;32m    185\u001B[0m         cur_node_representations \u001B[38;5;241m/\u001B[39m\u001B[38;5;241m=\u001B[39m \u001B[38;5;241m2\u001B[39m\n\u001B[1;32m    186\u001B[0m     last_residual_representations \u001B[38;5;241m=\u001B[39m t\n\u001B[1;32m    187\u001B[0m cur_node_representations \u001B[38;5;241m=\u001B[39m \\\n\u001B[0;32m--> 188\u001B[0m     \u001B[38;5;28;43mself\u001B[39;49m\u001B[38;5;241;43m.\u001B[39;49m\u001B[43m_apply_gnn_layer\u001B[49m\u001B[43m(\u001B[49m\n\u001B[1;32m    189\u001B[0m \u001B[43m        \u001B[49m\u001B[43mcur_node_representations\u001B[49m\u001B[43m,\u001B[49m\n\u001B[1;32m    190\u001B[0m \u001B[43m        \u001B[49m\u001B[38;5;28;43mself\u001B[39;49m\u001B[38;5;241;43m.\u001B[39;49m\u001B[43m__ops\u001B[49m\u001B[43m[\u001B[49m\u001B[38;5;124;43m'\u001B[39;49m\u001B[38;5;124;43madjacency_lists\u001B[39;49m\u001B[38;5;124;43m'\u001B[39;49m\u001B[43m]\u001B[49m\u001B[43m,\u001B[49m\n\u001B[1;32m    191\u001B[0m \u001B[43m        \u001B[49m\u001B[38;5;28;43mself\u001B[39;49m\u001B[38;5;241;43m.\u001B[39;49m\u001B[43m__ops\u001B[49m\u001B[43m[\u001B[49m\u001B[38;5;124;43m'\u001B[39;49m\u001B[38;5;124;43mtype_to_num_incoming_edges\u001B[39;49m\u001B[38;5;124;43m'\u001B[39;49m\u001B[43m]\u001B[49m\u001B[43m,\u001B[49m\n\u001B[1;32m    192\u001B[0m \u001B[43m        \u001B[49m\u001B[38;5;28;43mself\u001B[39;49m\u001B[38;5;241;43m.\u001B[39;49m\u001B[43mparams\u001B[49m\u001B[43m[\u001B[49m\u001B[38;5;124;43m'\u001B[39;49m\u001B[38;5;124;43mgraph_num_timesteps_per_layer\u001B[39;49m\u001B[38;5;124;43m'\u001B[39;49m\u001B[43m]\u001B[49m\u001B[43m)\u001B[49m\n\u001B[1;32m    193\u001B[0m \u001B[38;5;28;01mif\u001B[39;00m \u001B[38;5;28mself\u001B[39m\u001B[38;5;241m.\u001B[39mparams[\u001B[38;5;124m'\u001B[39m\u001B[38;5;124mgraph_inter_layer_norm\u001B[39m\u001B[38;5;124m'\u001B[39m]:\n\u001B[1;32m    194\u001B[0m     cur_node_representations \u001B[38;5;241m=\u001B[39m tf\u001B[38;5;241m.\u001B[39mcontrib\u001B[38;5;241m.\u001B[39mlayers\u001B[38;5;241m.\u001B[39mlayer_norm(cur_node_representations)\n",
      "File \u001B[0;32m~/ghq/github.com/microsoft/tf-gnn-samples/models/ggnn_model.py:37\u001B[0m, in \u001B[0;36mGGNN_Model._apply_gnn_layer\u001B[0;34m(self, node_representations, adjacency_lists, type_to_num_incoming_edges, num_timesteps)\u001B[0m\n\u001B[1;32m     32\u001B[0m \u001B[38;5;28;01mdef\u001B[39;00m \u001B[38;5;21m_apply_gnn_layer\u001B[39m(\u001B[38;5;28mself\u001B[39m,\n\u001B[1;32m     33\u001B[0m                      node_representations: tf\u001B[38;5;241m.\u001B[39mTensor,\n\u001B[1;32m     34\u001B[0m                      adjacency_lists: List[tf\u001B[38;5;241m.\u001B[39mTensor],\n\u001B[1;32m     35\u001B[0m                      type_to_num_incoming_edges: tf\u001B[38;5;241m.\u001B[39mTensor,\n\u001B[1;32m     36\u001B[0m                      num_timesteps: \u001B[38;5;28mint\u001B[39m) \u001B[38;5;241m-\u001B[39m\u001B[38;5;241m>\u001B[39m tf\u001B[38;5;241m.\u001B[39mTensor:\n\u001B[0;32m---> 37\u001B[0m     \u001B[38;5;28;01mreturn\u001B[39;00m \u001B[43msparse_ggnn_layer\u001B[49m\u001B[43m(\u001B[49m\n\u001B[1;32m     38\u001B[0m \u001B[43m        \u001B[49m\u001B[43mnode_embeddings\u001B[49m\u001B[38;5;241;43m=\u001B[39;49m\u001B[43mnode_representations\u001B[49m\u001B[43m,\u001B[49m\n\u001B[1;32m     39\u001B[0m \u001B[43m        \u001B[49m\u001B[43madjacency_lists\u001B[49m\u001B[38;5;241;43m=\u001B[39;49m\u001B[43madjacency_lists\u001B[49m\u001B[43m,\u001B[49m\n\u001B[1;32m     40\u001B[0m \u001B[43m        \u001B[49m\u001B[43mstate_dim\u001B[49m\u001B[38;5;241;43m=\u001B[39;49m\u001B[38;5;28;43mself\u001B[39;49m\u001B[38;5;241;43m.\u001B[39;49m\u001B[43mparams\u001B[49m\u001B[43m[\u001B[49m\u001B[38;5;124;43m'\u001B[39;49m\u001B[38;5;124;43mhidden_size\u001B[39;49m\u001B[38;5;124;43m'\u001B[39;49m\u001B[43m]\u001B[49m\u001B[43m,\u001B[49m\n\u001B[1;32m     41\u001B[0m \u001B[43m        \u001B[49m\u001B[43mnum_timesteps\u001B[49m\u001B[38;5;241;43m=\u001B[39;49m\u001B[43mnum_timesteps\u001B[49m\u001B[43m,\u001B[49m\n\u001B[1;32m     42\u001B[0m \u001B[43m        \u001B[49m\u001B[43mgated_unit_type\u001B[49m\u001B[38;5;241;43m=\u001B[39;49m\u001B[38;5;28;43mself\u001B[39;49m\u001B[38;5;241;43m.\u001B[39;49m\u001B[43mparams\u001B[49m\u001B[43m[\u001B[49m\u001B[38;5;124;43m'\u001B[39;49m\u001B[38;5;124;43mgraph_rnn_cell\u001B[39;49m\u001B[38;5;124;43m'\u001B[39;49m\u001B[43m]\u001B[49m\u001B[43m,\u001B[49m\n\u001B[1;32m     43\u001B[0m \u001B[43m        \u001B[49m\u001B[43mactivation_function\u001B[49m\u001B[38;5;241;43m=\u001B[39;49m\u001B[38;5;28;43mself\u001B[39;49m\u001B[38;5;241;43m.\u001B[39;49m\u001B[43mparams\u001B[49m\u001B[43m[\u001B[49m\u001B[38;5;124;43m'\u001B[39;49m\u001B[38;5;124;43mgraph_activation_function\u001B[39;49m\u001B[38;5;124;43m'\u001B[39;49m\u001B[43m]\u001B[49m\u001B[43m,\u001B[49m\n\u001B[1;32m     44\u001B[0m \u001B[43m        \u001B[49m\u001B[43mmessage_aggregation_function\u001B[49m\u001B[38;5;241;43m=\u001B[39;49m\u001B[38;5;28;43mself\u001B[39;49m\u001B[38;5;241;43m.\u001B[39;49m\u001B[43mparams\u001B[49m\u001B[43m[\u001B[49m\u001B[38;5;124;43m'\u001B[39;49m\u001B[38;5;124;43mmessage_aggregation_function\u001B[39;49m\u001B[38;5;124;43m'\u001B[39;49m\u001B[43m]\u001B[49m\u001B[43m,\u001B[49m\n\u001B[1;32m     45\u001B[0m \u001B[43m    \u001B[49m\u001B[43m)\u001B[49m\n",
      "File \u001B[0;32m~/ghq/github.com/microsoft/tf-gnn-samples/gnns/ggnn.py:92\u001B[0m, in \u001B[0;36msparse_ggnn_layer\u001B[0;34m(node_embeddings, adjacency_lists, state_dim, num_timesteps, gated_unit_type, activation_function, message_aggregation_function)\u001B[0m\n\u001B[1;32m     86\u001B[0m     aggregated_messages \u001B[38;5;241m=\u001B[39m \\\n\u001B[1;32m     87\u001B[0m         message_aggregation_fn(data\u001B[38;5;241m=\u001B[39mmessages,\n\u001B[1;32m     88\u001B[0m                                segment_ids\u001B[38;5;241m=\u001B[39mmessage_targets,\n\u001B[1;32m     89\u001B[0m                                num_segments\u001B[38;5;241m=\u001B[39mnum_nodes)  \u001B[38;5;66;03m# Shape [V, D]\u001B[39;00m\n\u001B[1;32m     91\u001B[0m     \u001B[38;5;66;03m# pass updated vertex features into RNN cell\u001B[39;00m\n\u001B[0;32m---> 92\u001B[0m     new_node_states \u001B[38;5;241m=\u001B[39m \u001B[43mgated_cell\u001B[49m\u001B[43m(\u001B[49m\u001B[43maggregated_messages\u001B[49m\u001B[43m,\u001B[49m\u001B[43m \u001B[49m\u001B[43m[\u001B[49m\u001B[43mcur_node_states\u001B[49m\u001B[43m]\u001B[49m\u001B[43m)\u001B[49m[\u001B[38;5;241m0\u001B[39m]  \u001B[38;5;66;03m# Shape [V, D]\u001B[39;00m\n\u001B[1;32m     93\u001B[0m     cur_node_states \u001B[38;5;241m=\u001B[39m new_node_states\n\u001B[1;32m     95\u001B[0m \u001B[38;5;28;01mreturn\u001B[39;00m cur_node_states\n",
      "File \u001B[0;32m~/ghq/github.com/microsoft/tf-gnn-samples/.venv/lib/python3.11/site-packages/keras/src/utils/traceback_utils.py:122\u001B[0m, in \u001B[0;36mfilter_traceback.<locals>.error_handler\u001B[0;34m(*args, **kwargs)\u001B[0m\n\u001B[1;32m    119\u001B[0m     filtered_tb \u001B[38;5;241m=\u001B[39m _process_traceback_frames(e\u001B[38;5;241m.\u001B[39m__traceback__)\n\u001B[1;32m    120\u001B[0m     \u001B[38;5;66;03m# To get the full stack trace, call:\u001B[39;00m\n\u001B[1;32m    121\u001B[0m     \u001B[38;5;66;03m# `keras.config.disable_traceback_filtering()`\u001B[39;00m\n\u001B[0;32m--> 122\u001B[0m     \u001B[38;5;28;01mraise\u001B[39;00m e\u001B[38;5;241m.\u001B[39mwith_traceback(filtered_tb) \u001B[38;5;28;01mfrom\u001B[39;00m \u001B[38;5;28;01mNone\u001B[39;00m\n\u001B[1;32m    123\u001B[0m \u001B[38;5;28;01mfinally\u001B[39;00m:\n\u001B[1;32m    124\u001B[0m     \u001B[38;5;28;01mdel\u001B[39;00m filtered_tb\n",
      "File \u001B[0;32m~/ghq/github.com/microsoft/tf-gnn-samples/.venv/lib/python3.11/site-packages/tensorflow/python/framework/ops.py:1037\u001B[0m, in \u001B[0;36m_create_c_op\u001B[0;34m(graph, node_def, inputs, control_inputs, op_def, extract_traceback)\u001B[0m\n\u001B[1;32m   1034\u001B[0m   c_op \u001B[38;5;241m=\u001B[39m pywrap_tf_session\u001B[38;5;241m.\u001B[39mTF_FinishOperation(op_desc)\n\u001B[1;32m   1035\u001B[0m \u001B[38;5;28;01mexcept\u001B[39;00m errors\u001B[38;5;241m.\u001B[39mInvalidArgumentError \u001B[38;5;28;01mas\u001B[39;00m e:\n\u001B[1;32m   1036\u001B[0m   \u001B[38;5;66;03m# Convert to ValueError for backwards compatibility.\u001B[39;00m\n\u001B[0;32m-> 1037\u001B[0m   \u001B[38;5;28;01mraise\u001B[39;00m \u001B[38;5;167;01mValueError\u001B[39;00m(e\u001B[38;5;241m.\u001B[39mmessage)\n\u001B[1;32m   1039\u001B[0m \u001B[38;5;66;03m# Record the current Python stack trace as the creating stacktrace of this\u001B[39;00m\n\u001B[1;32m   1040\u001B[0m \u001B[38;5;66;03m# TF_Operation.\u001B[39;00m\n\u001B[1;32m   1041\u001B[0m \u001B[38;5;28;01mif\u001B[39;00m extract_traceback:\n",
      "\u001B[0;31mValueError\u001B[0m: Exception encountered when calling GRUCell.call().\n\n\u001B[1mAttempting to slice scalar input. for '{{node graph_model/gnn_layer_0/gru_cell_1/strided_slice}} = StridedSlice[Index=DT_INT32, T=DT_INT32, begin_mask=0, ellipsis_mask=0, end_mask=0, new_axis_mask=0, shrink_axis_mask=0](graph_model/gnn_layer_0/gru_cell_1/shape_as_tensor, graph_model/gnn_layer_0/gru_cell_1/strided_slice/stack, graph_model/gnn_layer_0/gru_cell_1/strided_slice/stack_1, graph_model/gnn_layer_0/gru_cell_1/strided_slice/stack_2)' with input shapes: [], [1], [1], [1] and with computed input tensors: input[3] = <1>.\u001B[0m\n\nArguments received by GRUCell.call():\n  • inputs=tf.Tensor(shape=(?, 128), dtype=float32)\n  • states=['tf.Tensor(shape=(?, 128), dtype=float32)']\n  • training=False"
     ]
    }
   ],
   "source": [
    "model = model_cls(model_params, task, run_id, result_dir)\n"
   ],
   "metadata": {
    "collapsed": false,
    "ExecuteTime": {
     "end_time": "2024-04-06T15:01:12.198497Z",
     "start_time": "2024-04-06T15:01:11.823517Z"
    }
   },
   "id": "e4929c7ccb4f7f07",
   "execution_count": 15
  },
  {
   "cell_type": "code",
   "outputs": [],
   "source": [],
   "metadata": {
    "collapsed": false
   },
   "id": "4fa8735ec49fc4a2"
  }
 ],
 "metadata": {
  "kernelspec": {
   "display_name": "Python 3",
   "language": "python",
   "name": "python3"
  },
  "language_info": {
   "codemirror_mode": {
    "name": "ipython",
    "version": 2
   },
   "file_extension": ".py",
   "mimetype": "text/x-python",
   "name": "python",
   "nbconvert_exporter": "python",
   "pygments_lexer": "ipython2",
   "version": "2.7.6"
  }
 },
 "nbformat": 4,
 "nbformat_minor": 5
}
